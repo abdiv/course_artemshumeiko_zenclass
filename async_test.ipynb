{
 "cells": [
  {
   "cell_type": "code",
   "id": "initial_id",
   "metadata": {
    "collapsed": true,
    "ExecuteTime": {
     "end_time": "2025-06-13T09:37:15.146563Z",
     "start_time": "2025-06-13T09:37:15.052699Z"
    }
   },
   "source": [
    "import time\n",
    "import asyncio\n",
    "\n",
    "from watchfiles import awatch"
   ],
   "outputs": [],
   "execution_count": 12
  },
  {
   "metadata": {
    "ExecuteTime": {
     "end_time": "2025-06-13T09:43:27.843779Z",
     "start_time": "2025-06-13T09:43:27.837475Z"
    }
   },
   "cell_type": "code",
   "source": [
    "async def get_data_from_db_async(query: str):\n",
    "    print(f\"Получен запрос: {query}\")\n",
    "    if query == 'Сочи':\n",
    "        await asyncio.sleep(4)\n",
    "    elif query == 'Дубай':\n",
    "        await asyncio.sleep(2)\n",
    "    print(f\"Данные получены: {query}\")\n",
    "    return \"Results\""
   ],
   "id": "7c75829a5f3ebb34",
   "outputs": [],
   "execution_count": 19
  },
  {
   "metadata": {
    "ExecuteTime": {
     "end_time": "2025-06-13T09:41:10.412131Z",
     "start_time": "2025-06-13T09:41:04.390625Z"
    }
   },
   "cell_type": "code",
   "source": [
    "await get_data_from_db_async(\"Сочи\")\n",
    "await get_data_from_db_async(\"Дубай\")"
   ],
   "id": "ca13e1d5cb11e71e",
   "outputs": [
    {
     "name": "stdout",
     "output_type": "stream",
     "text": [
      "Получен запрос: Сочи\n",
      "Данные получены: Сочи\n",
      "Получен запрос: Дубай\n",
      "Данные получены: Дубай\n"
     ]
    }
   ],
   "execution_count": 16
  },
  {
   "metadata": {
    "ExecuteTime": {
     "end_time": "2025-06-13T09:43:35.196119Z",
     "start_time": "2025-06-13T09:43:31.183827Z"
    }
   },
   "cell_type": "code",
   "source": [
    "result_sochi, result_dubai = await asyncio.gather(\n",
    "    get_data_from_db_async(\"Сочи\"),\n",
    "    get_data_from_db_async(\"Дубай\"),\n",
    ")"
   ],
   "id": "bf3787a45f347bbb",
   "outputs": [
    {
     "name": "stdout",
     "output_type": "stream",
     "text": [
      "Получен запрос: Сочи\n",
      "Получен запрос: Дубай\n",
      "Данные получены: Дубай\n",
      "Данные получены: Сочи\n"
     ]
    }
   ],
   "execution_count": 20
  },
  {
   "metadata": {
    "ExecuteTime": {
     "end_time": "2025-06-13T09:44:37.232395Z",
     "start_time": "2025-06-13T09:44:37.211300Z"
    }
   },
   "cell_type": "code",
   "source": "result_sochi",
   "id": "19079a1fca1aba57",
   "outputs": [
    {
     "data": {
      "text/plain": [
       "'Results'"
      ]
     },
     "execution_count": 21,
     "metadata": {},
     "output_type": "execute_result"
    }
   ],
   "execution_count": 21
  },
  {
   "metadata": {
    "ExecuteTime": {
     "end_time": "2025-06-13T09:44:39.872716Z",
     "start_time": "2025-06-13T09:44:39.864235Z"
    }
   },
   "cell_type": "code",
   "source": "result_dubai",
   "id": "7ef40c639657d7d2",
   "outputs": [
    {
     "data": {
      "text/plain": [
       "'Results'"
      ]
     },
     "execution_count": 22,
     "metadata": {},
     "output_type": "execute_result"
    }
   ],
   "execution_count": 22
  },
  {
   "metadata": {
    "ExecuteTime": {
     "end_time": "2025-06-13T09:46:35.462070Z",
     "start_time": "2025-06-13T09:46:35.456643Z"
    }
   },
   "cell_type": "code",
   "source": [
    "task1 = asyncio.create_task(get_data_from_db_async(\"Сочи\"))\n",
    "task2 = asyncio.create_task(get_data_from_db_async(\"Дубай\"))"
   ],
   "id": "a954e1da7096dd8",
   "outputs": [
    {
     "name": "stdout",
     "output_type": "stream",
     "text": [
      "Получен запрос: Сочи\n",
      "Получен запрос: Дубай\n",
      "Данные получены: Дубай\n",
      "Данные получены: Сочи\n"
     ]
    }
   ],
   "execution_count": 23
  }
 ],
 "metadata": {
  "kernelspec": {
   "display_name": "Python 3",
   "language": "python",
   "name": "python3"
  },
  "language_info": {
   "codemirror_mode": {
    "name": "ipython",
    "version": 2
   },
   "file_extension": ".py",
   "mimetype": "text/x-python",
   "name": "python",
   "nbconvert_exporter": "python",
   "pygments_lexer": "ipython2",
   "version": "2.7.6"
  }
 },
 "nbformat": 4,
 "nbformat_minor": 5
}
